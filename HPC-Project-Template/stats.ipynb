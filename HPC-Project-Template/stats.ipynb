{
 "cells": [
  {
   "cell_type": "code",
   "execution_count": null,
   "metadata": {},
   "outputs": [],
   "source": [
    "import numpy as np\n",
    "import seaborn as sns\n",
    "import pandas as pd\n",
    "mat_size = [2**x for x in range(5,14)]"
   ]
  },
  {
   "cell_type": "code",
   "execution_count": null,
   "metadata": {},
   "outputs": [],
   "source": [
    "# This will create a list of dataframes that corresponds to the matrix sizes with times for all of them\n",
    "dfs = []\n",
    "stat_df = []\n",
    "stat = False\n",
    "df = None\n",
    "# with open(\"stats.csv\", \"r\") as f:\n",
    "#     for line in f.readlines():\n",
    "#         if line.startswith('Name,'):\n",
    "#             dfs.append(df)\n",
    "#             df = pd.DataFrame(columns = line.split(','))\n",
    "            \n",
    "#         else:\n",
    "            \n",
    "#             new_row_values = []\n",
    "#             for x in line.split(','):\n",
    "#                 try:\n",
    "#                     float_value = float(x)\n",
    "#                     new_row_values.append(float_value)\n",
    "#                 except ValueError:\n",
    "#                     pass\n",
    "                    \n",
    "#             # Append the new row to the DataFrameline.split(',')\n",
    "#             new_row_dict = dict(zip(df.columns, new_row_values))\n",
    "#             # Append the new row to the DataFrame\n",
    "#             df = df.append(new_row_dict, ignore_index=True)\n",
    "# dfs = dfs[1:]\n",
    "# dfs\n",
    "\n",
    "d = pd.read_csv(\"stats.csv\")\n",
    "\n",
    "dfs_split = []\n",
    "unique_keys = d['Name'].unique()\n",
    "for key in unique_keys:\n",
    "    df_split = d[d['Name'] == key]\n",
    "    dfs_split.append(df_split)\n",
    "\n",
    "# Print the split DataFrames\n",
    "for df_split in dfs_split:\n",
    "    df_split.drop(df_split.columns[-1], axis=1, inplace=True)\n",
    "    df_split.set_index(df_split.columns[0], inplace=True)\n",
    "    print(df_split['computation time (ms)'].head())\n",
    "    \n",
    "    \n",
    "\n",
    "#sns.lineplot(d['preparing time (ms)'].replace('preparing time (ms)',None))"
   ]
  },
  {
   "cell_type": "code",
   "execution_count": null,
   "metadata": {},
   "outputs": [],
   "source": [
    "# This will create a list of dataframes that corresponds to the matrix sizes with times for all of them\n",
    "dfs = []\n",
    "stat_df = []\n",
    "stat = False\n",
    "df = None\n",
    "with open(\"results.csv\", \"r\") as f:\n",
    "    for line in f.readlines():\n",
    "        if line.startswith('MMA CPU '):\n",
    "            dfs.append(df)\n",
    "            df = pd.DataFrame(columns = line.split(','))\n",
    "            \n",
    "        else:\n",
    "            \n",
    "            new_row_values = []\n",
    "            for x in line.split(','):\n",
    "                try:\n",
    "                    float_value = float(x)\n",
    "                    new_row_values.append(float_value)\n",
    "                except ValueError:\n",
    "                    pass\n",
    "                    \n",
    "            # Append the new row to the DataFrameline.split(',')\n",
    "            new_row_dict = dict(zip(df.columns, new_row_values))\n",
    "            # Append the new row to the DataFrame\n",
    "            df = df.append(new_row_dict, ignore_index=True)\n",
    "\n",
    "dfs = dfs[1:]\n",
    "dfs[-1].head()"
   ]
  },
  {
   "cell_type": "code",
   "execution_count": null,
   "metadata": {},
   "outputs": [],
   "source": [
    "names = ['CPU', 'CudaGM', 'CudaSM', 'TensorGM',  'TensorSM']\n",
    "indexes = ['Loading', 'Computing', 'Output', 'Total']\n",
    "dfs_mean = []\n",
    "for df in dfs:\n",
    "    df_mean = pd.DataFrame(columns=names, index=indexes)\n",
    "    j = 0\n",
    "    for row in df_mean.index:\n",
    "        i = j\n",
    "        for col in df_mean.columns:\n",
    "            if row == 'Total':\n",
    "                df_mean.loc[row, col] = df_mean.loc[:, col].sum()\n",
    "            else:\n",
    "                df_mean.loc[row, col] = df.iloc[:, i].mean()\n",
    "\n",
    "\n",
    "            i += 3\n",
    "        j += 1\n",
    "    \n",
    "    dfs_mean.append(df_mean)\n",
    "\n",
    "\n"
   ]
  },
  {
   "cell_type": "code",
   "execution_count": null,
   "metadata": {},
   "outputs": [],
   "source": [
    "for df in dfs_mean:\n",
    "    print(df)"
   ]
  },
  {
   "cell_type": "code",
   "execution_count": null,
   "metadata": {},
   "outputs": [],
   "source": [
    "import seaborn as sns\n",
    "for df in dfs_mean:\n",
    "    sns.scatterplot(data = df.loc['Total'])"
   ]
  },
  {
   "cell_type": "code",
   "execution_count": null,
   "metadata": {},
   "outputs": [],
   "source": [
    "\n",
    "dfs_mean.pop()\n",
    "dfs_dea = dfs_mean[1::2]\n",
    "dfs = dfs_mean[::2] # keep only those without deallocation, # different sizez bc the last dea failed\n",
    "\n",
    "dfs"
   ]
  },
  {
   "cell_type": "code",
   "execution_count": null,
   "metadata": {},
   "outputs": [],
   "source": [
    "s = dict()\n",
    "for df in dfs:\n",
    "    for col in df.columns:\n",
    "        if col == 'CPU':continue\n",
    "        if col not in s:\n",
    "            s[col] = list()\n",
    "        s[col].append(df[col]['Computing']*1000)\n",
    "        \n",
    "g = sns.lineplot(data = s)\n",
    "g.set_xticks(range(len(mat_size)))\n",
    "g.set_xticklabels(mat_size)\n",
    "\n",
    "g.set_xlabel('Matrix Size')\n",
    "g.set_ylabel('Computation Time (s)')\n"
   ]
  },
  {
   "cell_type": "code",
   "execution_count": 385,
   "metadata": {},
   "outputs": [
    {
     "data": {
      "image/png": "[encoded data removed]",
      "text/plain": [
       "<Figure size 640x480 with 1 Axes>"
      ]
     },
     "metadata": {},
     "output_type": "display_data"
    }
   ],
   "source": [
    "import matplotlib.pyplot as plt\n",
    "df = pd.DataFrame(columns=['CPU', 'Cuda', 'CudaSM', 'Tensor'], index=mat_size[:-1])\n",
    "\n",
    "df.loc[:,'CPU'] = [1,1,1,1,1,1,1,1]\n",
    "df.loc[:,'Cuda'] = [2,2,2,2,2,2,2,2]\n",
    "df.loc[:,'CudaSM'] = [3,3,3,3,3,3,3,3]\n",
    "df.loc[:,'Tensor'] = [4,4,4,4,4,4,4,4]\n",
    "df\n",
    "\n",
    "#sns.histplot(x = df.index,y = df.columns, multiple='dodge', shrink = 0.4)\n",
    "# Create the histogram\n",
    "sns.histplot(data=df, bins='auto', multiple='dodge', shrink = 0.4)\n",
    "\n",
    "# Set labels and title\n",
    "plt.xlabel('Time')\n",
    "plt.ylabel('Frequency')\n",
    "plt.title('Histogram of Time Taken by Runners')\n",
    "\n",
    "# Show the plot\n",
    "plt.show()"
   ]
  }
 ],
 "metadata": {
  "kernelspec": {
   "display_name": "base",
   "language": "python",
   "name": "python3"
  },
  "language_info": {
   "codemirror_mode": {
    "name": "ipython",
    "version": 3
   },
   "file_extension": ".py",
   "mimetype": "text/x-python",
   "name": "python",
   "nbconvert_exporter": "python",
   "pygments_lexer": "ipython3",
   "version": "3.9.15"
  },
  "orig_nbformat": 4
 },
 "nbformat": 4,
 "nbformat_minor": 2
}
